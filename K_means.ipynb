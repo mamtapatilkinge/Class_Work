{
  "nbformat": 4,
  "nbformat_minor": 0,
  "metadata": {
    "colab": {
      "provenance": [],
      "collapsed_sections": []
    },
    "kernelspec": {
      "name": "python3",
      "display_name": "Python 3"
    },
    "language_info": {
      "name": "python"
    }
  },
  "cells": [
    {
      "cell_type": "code",
      "execution_count": null,
      "metadata": {
        "id": "u_UJtwkkY5ft"
      },
      "outputs": [],
      "source": [
        "import numpy as np\n",
        "import pandas as pd\n",
        "import matplotlib.pyplot as plt\n",
        "\n",
        "from sklearn.cluster import KMeans"
      ]
    },
    {
      "cell_type": "code",
      "source": [
        "Univ = pd.read_csv(\"https://raw.githubusercontent.com/slmsshk/DataSet/main/Universities.csv\")"
      ],
      "metadata": {
        "id": "iJvj_6G4Zyi8"
      },
      "execution_count": null,
      "outputs": []
    },
    {
      "cell_type": "code",
      "source": [
        "# standardization function\n",
        "from sklearn.preprocessing import StandardScaler\n",
        "scaler = StandardScaler()\n",
        "scaled_Univ_df = scaler.fit_transform(Univ.iloc[:,1:])"
      ],
      "metadata": {
        "id": "u1s2wj_nl1h4"
      },
      "execution_count": null,
      "outputs": []
    },
    {
      "cell_type": "code",
      "source": [
        "scaled_Univ_df"
      ],
      "metadata": {
        "colab": {
          "base_uri": "https://localhost:8080/"
        },
        "id": "9xAsZvBcl1pU",
        "outputId": "a52734e8-8f72-4453-8831-382982e68c85"
      },
      "execution_count": null,
      "outputs": [
        {
          "output_type": "execute_result",
          "data": {
            "text/plain": [
              "array([[ 0.41028362,  0.6575195 , -0.88986682,  0.07026045, -0.33141256,\n",
              "         0.82030265],\n",
              "       [ 1.39925928,  1.23521235, -0.73465749, -1.68625071,  2.56038138,\n",
              "        -0.64452351],\n",
              "       [-0.06065717, -0.76045386,  1.02438157, -0.93346022, -0.16712136,\n",
              "        -1.65863393],\n",
              "       [ 0.41028362, -0.02520842, -0.78639393, -0.18066972,  0.29164871,\n",
              "         0.14422904],\n",
              "       [ 0.12771914,  0.34241431, -0.32076595,  0.07026045, -0.39084607,\n",
              "         0.36958691],\n",
              "       [ 0.69284809,  0.6575195 , -0.83813038, -0.68253005,  0.33778044,\n",
              "         0.93298158],\n",
              "       [ 0.4573777 ,  0.71003703, -0.47597528, -0.18066972,  0.29695528,\n",
              "         0.93298158],\n",
              "       [-0.10775125, -0.13024348, -0.78639393, -0.18066972, -0.51381683,\n",
              "         0.59494478],\n",
              "       [ 1.25797704,  0.76255456, -1.30375836, -0.43159988,  0.85874344,\n",
              "         1.15833946],\n",
              "       [ 0.36318954, -0.07772595,  0.24833493, -1.43532055,  2.21481798,\n",
              "         0.0315501 ],\n",
              "       [ 1.06960072,  0.92010716, -0.47597528, -0.68253005,  0.52938275,\n",
              "         0.48226584],\n",
              "       [-0.06065717,  0.44744937, -0.01034729, -0.43159988,  0.04698077,\n",
              "         0.25690797],\n",
              "       [-0.10775125,  0.23737924,  0.14486204,  0.07026045, -0.86787073,\n",
              "         0.82030265],\n",
              "       [-1.7466252 , -2.02087462,  0.76569936,  1.32491127, -1.21718409,\n",
              "        -0.75720245],\n",
              "       [ 1.02250664,  0.76255456, -1.30375836, -1.18439038,  0.20037583,\n",
              "         0.93298158],\n",
              "       [-2.46245521, -2.54604994,  2.6282113 ,  1.57584144, -1.29635802,\n",
              "        -1.99667073],\n",
              "       [ 0.88122441,  0.71003703, -0.9933397 , -0.18066972,  0.64117435,\n",
              "         0.70762371],\n",
              "       [-1.8031381 , -1.44318177,  1.43827311,  3.08142243, -1.32197103,\n",
              "        -2.22202861],\n",
              "       [-0.24903349,  0.97262469,  0.04138915,  1.07398111, -0.86659715,\n",
              "        -0.98256032],\n",
              "       [ 0.2219073 , -0.07772595,  0.55875358,  0.07026045,  0.77772991,\n",
              "         0.0315501 ],\n",
              "       [-0.81416244, -0.60290126,  1.49000956,  0.82305094, -0.84324827,\n",
              "        -0.19380777],\n",
              "       [ 0.17481322,  0.18486171, -0.16555662, -0.43159988,  0.01167444,\n",
              "         0.36958691],\n",
              "       [-0.39031573,  0.02730912,  0.24833493,  0.32119061, -0.99331788,\n",
              "         0.59494478],\n",
              "       [-1.70894994, -1.91583956,  1.541746  ,  0.57212078, -1.09888311,\n",
              "        -1.77131286],\n",
              "       [ 1.02250664,  0.97262469, -1.04507615, -0.43159988,  1.14098185,\n",
              "         1.04566052]])"
            ]
          },
          "metadata": {},
          "execution_count": 66
        }
      ]
    },
    {
      "cell_type": "code",
      "source": [
        "# How to find optimum number of cluster\n",
        "# The K-means algorithm aims to choose centroids that minimise the inertia, or within-cluster sum-of-square criterion:\n"
      ],
      "metadata": {
        "id": "6dNjCxGwm6-B"
      },
      "execution_count": null,
      "outputs": []
    },
    {
      "cell_type": "code",
      "source": [
        "kmeans =KMeans(n_clusters=4,random_state=0)\n",
        "predict=kmeans.fit_predict(scaled_Univ_df)"
      ],
      "metadata": {
        "id": "RmEeK4MTnpNT"
      },
      "execution_count": null,
      "outputs": []
    },
    {
      "cell_type": "code",
      "source": [
        "predict"
      ],
      "metadata": {
        "colab": {
          "base_uri": "https://localhost:8080/"
        },
        "id": "8NED6f1OnpeB",
        "outputId": "6f67c286-cc3c-463c-a1a6-589b36e4064e"
      },
      "execution_count": null,
      "outputs": [
        {
          "output_type": "execute_result",
          "data": {
            "text/plain": [
              "array([2, 3, 0, 2, 0, 2, 2, 0, 2, 3, 2, 0, 0, 1, 2, 1, 2, 1, 0, 0, 0, 0,\n",
              "       0, 1, 2], dtype=int32)"
            ]
          },
          "metadata": {},
          "execution_count": 69
        }
      ]
    },
    {
      "cell_type": "code",
      "source": [
        "kmeans.inertia_"
      ],
      "metadata": {
        "colab": {
          "base_uri": "https://localhost:8080/"
        },
        "id": "XXtfkJFxnpsP",
        "outputId": "dca9751f-630d-4962-c18e-2507abd3529e"
      },
      "execution_count": null,
      "outputs": [
        {
          "output_type": "execute_result",
          "data": {
            "text/plain": [
              "33.654341806512235"
            ]
          },
          "metadata": {},
          "execution_count": 70
        }
      ]
    },
    {
      "cell_type": "code",
      "source": [
        "wcss"
      ],
      "metadata": {
        "colab": {
          "base_uri": "https://localhost:8080/"
        },
        "id": "RLZeqD3ioGye",
        "outputId": "1c98a4c2-7859-44b7-a3d6-20d6a8644a1f"
      },
      "execution_count": null,
      "outputs": [
        {
          "output_type": "execute_result",
          "data": {
            "text/plain": [
              "[150.0,\n",
              " 64.1452839501027,\n",
              " 44.531761731450956,\n",
              " 33.654341806512235,\n",
              " 26.9536816278831,\n",
              " 23.028199078329926,\n",
              " 18.56891703085987,\n",
              " 16.301664640974554,\n",
              " 13.47880438976081,\n",
              " 10.640545447539141]"
            ]
          },
          "metadata": {},
          "execution_count": 71
        }
      ]
    },
    {
      "cell_type": "code",
      "source": [
        "wcss = []\n",
        "for i in range(1, 11):\n",
        "    kmeans = KMeans(n_clusters=i,random_state=0)\n",
        "    kmeans.fit(scaled_Univ_df)\n",
        "    wcss.append(kmeans.inertia_)\n",
        "\n",
        "plt.plot(range(1, 11), wcss)\n",
        "plt.title('Elbow Method')\n",
        "plt.xlabel('Number of clusters')\n",
        "plt.ylabel('WCSS')\n",
        "plt.show()    "
      ],
      "metadata": {
        "colab": {
          "base_uri": "https://localhost:8080/",
          "height": 295
        },
        "id": "La6Qai4toG2O",
        "outputId": "ca95de8e-93c9-4105-dd52-949a845116f0"
      },
      "execution_count": null,
      "outputs": [
        {
          "output_type": "display_data",
          "data": {
            "text/plain": [
              "<Figure size 432x288 with 1 Axes>"
            ],
            "image/png": "[encoded data removed]"
          },
          "metadata": {
            "needs_background": "light"
          }
        }
      ]
    },
    {
      "cell_type": "code",
      "source": [
        "# Build Cluster algorithm\n",
        "from sklearn.cluster import KMeans\n",
        "clusters_new = KMeans(4, random_state=42)\n",
        "clusters_new.fit(scaled_Univ_df)\n"
      ],
      "metadata": {
        "colab": {
          "base_uri": "https://localhost:8080/"
        },
        "id": "ZXrQL7CipH9v",
        "outputId": "71439902-8736-46b7-80a6-17b14b3a7c4c"
      },
      "execution_count": null,
      "outputs": [
        {
          "output_type": "execute_result",
          "data": {
            "text/plain": [
              "KMeans(n_clusters=4, random_state=42)"
            ]
          },
          "metadata": {},
          "execution_count": 73
        }
      ]
    },
    {
      "cell_type": "code",
      "source": [
        "dir(clusters_new)"
      ],
      "metadata": {
        "colab": {
          "base_uri": "https://localhost:8080/"
        },
        "id": "ND57NvQbpgV8",
        "outputId": "0fb1cc91-ec20-403f-f62b-60d9e1d313ae"
      },
      "execution_count": null,
      "outputs": [
        {
          "output_type": "execute_result",
          "data": {
            "text/plain": [
              "['__class__',\n",
              " '__delattr__',\n",
              " '__dict__',\n",
              " '__dir__',\n",
              " '__doc__',\n",
              " '__eq__',\n",
              " '__format__',\n",
              " '__ge__',\n",
              " '__getattribute__',\n",
              " '__getstate__',\n",
              " '__gt__',\n",
              " '__hash__',\n",
              " '__init__',\n",
              " '__init_subclass__',\n",
              " '__le__',\n",
              " '__lt__',\n",
              " '__module__',\n",
              " '__ne__',\n",
              " '__new__',\n",
              " '__reduce__',\n",
              " '__reduce_ex__',\n",
              " '__repr__',\n",
              " '__setattr__',\n",
              " '__setstate__',\n",
              " '__sizeof__',\n",
              " '__str__',\n",
              " '__subclasshook__',\n",
              " '__weakref__',\n",
              " '_algorithm',\n",
              " '_check_feature_names',\n",
              " '_check_mkl_vcomp',\n",
              " '_check_n_features',\n",
              " '_check_params',\n",
              " '_check_test_data',\n",
              " '_estimator_type',\n",
              " '_get_param_names',\n",
              " '_get_tags',\n",
              " '_init_centroids',\n",
              " '_more_tags',\n",
              " '_n_init',\n",
              " '_n_threads',\n",
              " '_repr_html_',\n",
              " '_repr_html_inner',\n",
              " '_repr_mimebundle_',\n",
              " '_tol',\n",
              " '_transform',\n",
              " '_validate_center_shape',\n",
              " '_validate_data',\n",
              " 'algorithm',\n",
              " 'cluster_centers_',\n",
              " 'copy_x',\n",
              " 'fit',\n",
              " 'fit_predict',\n",
              " 'fit_transform',\n",
              " 'get_params',\n",
              " 'inertia_',\n",
              " 'init',\n",
              " 'labels_',\n",
              " 'max_iter',\n",
              " 'n_clusters',\n",
              " 'n_features_in_',\n",
              " 'n_init',\n",
              " 'n_iter_',\n",
              " 'predict',\n",
              " 'random_state',\n",
              " 'score',\n",
              " 'set_params',\n",
              " 'tol',\n",
              " 'transform',\n",
              " 'verbose']"
            ]
          },
          "metadata": {},
          "execution_count": 74
        }
      ]
    },
    {
      "cell_type": "code",
      "source": [
        "clusters_new.labels_"
      ],
      "metadata": {
        "colab": {
          "base_uri": "https://localhost:8080/"
        },
        "id": "kX00jZEzpgb5",
        "outputId": "a2b1fed9-2220-4762-f638-d9fe893738e3"
      },
      "execution_count": null,
      "outputs": [
        {
          "output_type": "execute_result",
          "data": {
            "text/plain": [
              "array([2, 3, 0, 2, 0, 2, 2, 0, 2, 3, 2, 0, 0, 1, 2, 1, 2, 1, 0, 0, 0, 0,\n",
              "       0, 1, 2], dtype=int32)"
            ]
          },
          "metadata": {},
          "execution_count": 75
        }
      ]
    },
    {
      "cell_type": "code",
      "source": [
        "# Assign clusters to the data set\n",
        "Univ['clusterid_new'] = clusters_new.labels_\n"
      ],
      "metadata": {
        "id": "B2J09n5bpgfq"
      },
      "execution_count": null,
      "outputs": []
    },
    {
      "cell_type": "code",
      "source": [
        "# These are standardized values.\n",
        "clusters_new.cluster_centers_"
      ],
      "metadata": {
        "colab": {
          "base_uri": "https://localhost:8080/"
        },
        "id": "lhlQ0T3ppgnP",
        "outputId": "dc4ec8ff-6670-4cb0-ca26-5db9bb1ae36a"
      },
      "execution_count": null,
      "outputs": [
        {
          "output_type": "execute_result",
          "data": {
            "text/plain": [
              "array([[-0.12658888,  0.06407139,  0.2224667 ,  0.04516743, -0.38064332,\n",
              "         0.02028221],\n",
              "       [-1.93029211, -1.98148647,  1.59348244,  1.63857398, -1.23359906,\n",
              "        -1.68680366],\n",
              "       [ 0.80273428,  0.68086062, -0.90136381, -0.43159988,  0.44062556,\n",
              "         0.79526289],\n",
              "       [ 0.88122441,  0.5787432 , -0.24316128, -1.56078563,  2.38759968,\n",
              "        -0.3064867 ]])"
            ]
          },
          "metadata": {},
          "execution_count": 77
        }
      ]
    },
    {
      "cell_type": "code",
      "source": [
        "Univ.groupby('clusterid_new').agg(['mean']).reset_index()"
      ],
      "metadata": {
        "colab": {
          "base_uri": "https://localhost:8080/",
          "height": 206
        },
        "id": "InlaZKF0qRA9",
        "outputId": "d845032d-59b5-4d2f-f9e2-2e909e0995e0"
      },
      "execution_count": null,
      "outputs": [
        {
          "output_type": "execute_result",
          "data": {
            "text/plain": [
              "  clusterid_new          SAT      Top10     Accept SFRatio      Expenses  \\\n",
              "                        mean       mean       mean    mean          mean   \n",
              "0             0  1253.000000  77.700000  43.500000   12.90  22008.200000   \n",
              "1             1  1061.500000  38.750000  70.000000   19.25   9953.000000   \n",
              "2             2  1351.666667  89.444444  21.777778   11.00  33615.555556   \n",
              "3             3  1360.000000  87.500000  34.500000    6.50  61133.000000   \n",
              "\n",
              "    GradRate  \n",
              "        mean  \n",
              "0  86.900000  \n",
              "1  71.750000  \n",
              "2  93.777778  \n",
              "3  84.000000  "
            ],
            "text/html": [
              "\n",
              "  <div id=\"df-b5211669-5a96-4d94-b582-54af9a5c4ced\">\n",
              "    <div class=\"colab-df-container\">\n",
              "      <div>\n",
              "<style scoped>\n",
              "    .dataframe tbody tr th:only-of-type {\n",
              "        vertical-align: middle;\n",
              "    }\n",
              "\n",
              "    .dataframe tbody tr th {\n",
              "        vertical-align: top;\n",
              "    }\n",
              "\n",
              "    .dataframe thead tr th {\n",
              "        text-align: left;\n",
              "    }\n",
              "</style>\n",
              "<table border=\"1\" class=\"dataframe\">\n",
              "  <thead>\n",
              "    <tr>\n",
              "      <th></th>\n",
              "      <th>clusterid_new</th>\n",
              "      <th>SAT</th>\n",
              "      <th>Top10</th>\n",
              "      <th>Accept</th>\n",
              "      <th>SFRatio</th>\n",
              "      <th>Expenses</th>\n",
              "      <th>GradRate</th>\n",
              "    </tr>\n",
              "    <tr>\n",
              "      <th></th>\n",
              "      <th></th>\n",
              "      <th>mean</th>\n",
              "      <th>mean</th>\n",
              "      <th>mean</th>\n",
              "      <th>mean</th>\n",
              "      <th>mean</th>\n",
              "      <th>mean</th>\n",
              "    </tr>\n",
              "  </thead>\n",
              "  <tbody>\n",
              "    <tr>\n",
              "      <th>0</th>\n",
              "      <td>0</td>\n",
              "      <td>1253.000000</td>\n",
              "      <td>77.700000</td>\n",
              "      <td>43.500000</td>\n",
              "      <td>12.90</td>\n",
              "      <td>22008.200000</td>\n",
              "      <td>86.900000</td>\n",
              "    </tr>\n",
              "    <tr>\n",
              "      <th>1</th>\n",
              "      <td>1</td>\n",
              "      <td>1061.500000</td>\n",
              "      <td>38.750000</td>\n",
              "      <td>70.000000</td>\n",
              "      <td>19.25</td>\n",
              "      <td>9953.000000</td>\n",
              "      <td>71.750000</td>\n",
              "    </tr>\n",
              "    <tr>\n",
              "      <th>2</th>\n",
              "      <td>2</td>\n",
              "      <td>1351.666667</td>\n",
              "      <td>89.444444</td>\n",
              "      <td>21.777778</td>\n",
              "      <td>11.00</td>\n",
              "      <td>33615.555556</td>\n",
              "      <td>93.777778</td>\n",
              "    </tr>\n",
              "    <tr>\n",
              "      <th>3</th>\n",
              "      <td>3</td>\n",
              "      <td>1360.000000</td>\n",
              "      <td>87.500000</td>\n",
              "      <td>34.500000</td>\n",
              "      <td>6.50</td>\n",
              "      <td>61133.000000</td>\n",
              "      <td>84.000000</td>\n",
              "    </tr>\n",
              "  </tbody>\n",
              "</table>\n",
              "</div>\n",
              "      <button class=\"colab-df-convert\" onclick=\"convertToInteractive('df-b5211669-5a96-4d94-b582-54af9a5c4ced')\"\n",
              "              title=\"Convert this dataframe to an interactive table.\"\n",
              "              style=\"display:none;\">\n",
              "        \n",
              "  <svg xmlns=\"http://www.w3.org/2000/svg\" height=\"24px\"viewBox=\"0 0 24 24\"\n",
              "       width=\"24px\">\n",
              "    <path d=\"M0 0h24v24H0V0z\" fill=\"none\"/>\n",
              "    <path d=\"M18.56 5.44l.94 2.06.94-2.06 2.06-.94-2.06-.94-.94-2.06-.94 2.06-2.06.94zm-11 1L8.5 8.5l.94-2.06 2.06-.94-2.06-.94L8.5 2.5l-.94 2.06-2.06.94zm10 10l.94 2.06.94-2.06 2.06-.94-2.06-.94-.94-2.06-.94 2.06-2.06.94z\"/><path d=\"M17.41 7.96l-1.37-1.37c-.4-.4-.92-.59-1.43-.59-.52 0-1.04.2-1.43.59L10.3 9.45l-7.72 7.72c-.78.78-.78 2.05 0 2.83L4 21.41c.39.39.9.59 1.41.59.51 0 1.02-.2 1.41-.59l7.78-7.78 2.81-2.81c.8-.78.8-2.07 0-2.86zM5.41 20L4 18.59l7.72-7.72 1.47 1.35L5.41 20z\"/>\n",
              "  </svg>\n",
              "      </button>\n",
              "      \n",
              "  <style>\n",
              "    .colab-df-container {\n",
              "      display:flex;\n",
              "      flex-wrap:wrap;\n",
              "      gap: 12px;\n",
              "    }\n",
              "\n",
              "    .colab-df-convert {\n",
              "      background-color: #E8F0FE;\n",
              "      border: none;\n",
              "      border-radius: 50%;\n",
              "      cursor: pointer;\n",
              "      display: none;\n",
              "      fill: #1967D2;\n",
              "      height: 32px;\n",
              "      padding: 0 0 0 0;\n",
              "      width: 32px;\n",
              "    }\n",
              "\n",
              "    .colab-df-convert:hover {\n",
              "      background-color: #E2EBFA;\n",
              "      box-shadow: 0px 1px 2px rgba(60, 64, 67, 0.3), 0px 1px 3px 1px rgba(60, 64, 67, 0.15);\n",
              "      fill: #174EA6;\n",
              "    }\n",
              "\n",
              "    [theme=dark] .colab-df-convert {\n",
              "      background-color: #3B4455;\n",
              "      fill: #D2E3FC;\n",
              "    }\n",
              "\n",
              "    [theme=dark] .colab-df-convert:hover {\n",
              "      background-color: #434B5C;\n",
              "      box-shadow: 0px 1px 3px 1px rgba(0, 0, 0, 0.15);\n",
              "      filter: drop-shadow(0px 1px 2px rgba(0, 0, 0, 0.3));\n",
              "      fill: #FFFFFF;\n",
              "    }\n",
              "  </style>\n",
              "\n",
              "      <script>\n",
              "        const buttonEl =\n",
              "          document.querySelector('#df-b5211669-5a96-4d94-b582-54af9a5c4ced button.colab-df-convert');\n",
              "        buttonEl.style.display =\n",
              "          google.colab.kernel.accessAllowed ? 'block' : 'none';\n",
              "\n",
              "        async function convertToInteractive(key) {\n",
              "          const element = document.querySelector('#df-b5211669-5a96-4d94-b582-54af9a5c4ced');\n",
              "          const dataTable =\n",
              "            await google.colab.kernel.invokeFunction('convertToInteractive',\n",
              "                                                     [key], {});\n",
              "          if (!dataTable) return;\n",
              "\n",
              "          const docLinkHtml = 'Like what you see? Visit the ' +\n",
              "            '<a target=\"_blank\" href=https://colab.research.google.com/notebooks/data_table.ipynb>data table notebook</a>'\n",
              "            + ' to learn more about interactive tables.';\n",
              "          element.innerHTML = '';\n",
              "          dataTable['output_type'] = 'display_data';\n",
              "          await google.colab.output.renderOutput(dataTable, element);\n",
              "          const docLink = document.createElement('div');\n",
              "          docLink.innerHTML = docLinkHtml;\n",
              "          element.appendChild(docLink);\n",
              "        }\n",
              "      </script>\n",
              "    </div>\n",
              "  </div>\n",
              "  "
            ]
          },
          "metadata": {},
          "execution_count": 78
        }
      ]
    },
    {
      "cell_type": "code",
      "source": [
        "Univ[Univ['clusterid_new']==3]"
      ],
      "metadata": {
        "colab": {
          "base_uri": "https://localhost:8080/",
          "height": 112
        },
        "id": "Stbi_iMDqREK",
        "outputId": "120b0aac-8a2b-49ab-e922-141f95b599cd"
      },
      "execution_count": null,
      "outputs": [
        {
          "output_type": "execute_result",
          "data": {
            "text/plain": [
              "           Univ   SAT  Top10  Accept  SFRatio  Expenses  GradRate  \\\n",
              "1       CalTech  1415    100      25        6     63575        81   \n",
              "9  JohnsHopkins  1305     75      44        7     58691        87   \n",
              "\n",
              "   clusterid_new  \n",
              "1              3  \n",
              "9              3  "
            ],
            "text/html": [
              "\n",
              "  <div id=\"df-0ed67ad0-a3ad-4eb2-9056-b7a82a75e8ae\">\n",
              "    <div class=\"colab-df-container\">\n",
              "      <div>\n",
              "<style scoped>\n",
              "    .dataframe tbody tr th:only-of-type {\n",
              "        vertical-align: middle;\n",
              "    }\n",
              "\n",
              "    .dataframe tbody tr th {\n",
              "        vertical-align: top;\n",
              "    }\n",
              "\n",
              "    .dataframe thead th {\n",
              "        text-align: right;\n",
              "    }\n",
              "</style>\n",
              "<table border=\"1\" class=\"dataframe\">\n",
              "  <thead>\n",
              "    <tr style=\"text-align: right;\">\n",
              "      <th></th>\n",
              "      <th>Univ</th>\n",
              "      <th>SAT</th>\n",
              "      <th>Top10</th>\n",
              "      <th>Accept</th>\n",
              "      <th>SFRatio</th>\n",
              "      <th>Expenses</th>\n",
              "      <th>GradRate</th>\n",
              "      <th>clusterid_new</th>\n",
              "    </tr>\n",
              "  </thead>\n",
              "  <tbody>\n",
              "    <tr>\n",
              "      <th>1</th>\n",
              "      <td>CalTech</td>\n",
              "      <td>1415</td>\n",
              "      <td>100</td>\n",
              "      <td>25</td>\n",
              "      <td>6</td>\n",
              "      <td>63575</td>\n",
              "      <td>81</td>\n",
              "      <td>3</td>\n",
              "    </tr>\n",
              "    <tr>\n",
              "      <th>9</th>\n",
              "      <td>JohnsHopkins</td>\n",
              "      <td>1305</td>\n",
              "      <td>75</td>\n",
              "      <td>44</td>\n",
              "      <td>7</td>\n",
              "      <td>58691</td>\n",
              "      <td>87</td>\n",
              "      <td>3</td>\n",
              "    </tr>\n",
              "  </tbody>\n",
              "</table>\n",
              "</div>\n",
              "      <button class=\"colab-df-convert\" onclick=\"convertToInteractive('df-0ed67ad0-a3ad-4eb2-9056-b7a82a75e8ae')\"\n",
              "              title=\"Convert this dataframe to an interactive table.\"\n",
              "              style=\"display:none;\">\n",
              "        \n",
              "  <svg xmlns=\"http://www.w3.org/2000/svg\" height=\"24px\"viewBox=\"0 0 24 24\"\n",
              "       width=\"24px\">\n",
              "    <path d=\"M0 0h24v24H0V0z\" fill=\"none\"/>\n",
              "    <path d=\"M18.56 5.44l.94 2.06.94-2.06 2.06-.94-2.06-.94-.94-2.06-.94 2.06-2.06.94zm-11 1L8.5 8.5l.94-2.06 2.06-.94-2.06-.94L8.5 2.5l-.94 2.06-2.06.94zm10 10l.94 2.06.94-2.06 2.06-.94-2.06-.94-.94-2.06-.94 2.06-2.06.94z\"/><path d=\"M17.41 7.96l-1.37-1.37c-.4-.4-.92-.59-1.43-.59-.52 0-1.04.2-1.43.59L10.3 9.45l-7.72 7.72c-.78.78-.78 2.05 0 2.83L4 21.41c.39.39.9.59 1.41.59.51 0 1.02-.2 1.41-.59l7.78-7.78 2.81-2.81c.8-.78.8-2.07 0-2.86zM5.41 20L4 18.59l7.72-7.72 1.47 1.35L5.41 20z\"/>\n",
              "  </svg>\n",
              "      </button>\n",
              "      \n",
              "  <style>\n",
              "    .colab-df-container {\n",
              "      display:flex;\n",
              "      flex-wrap:wrap;\n",
              "      gap: 12px;\n",
              "    }\n",
              "\n",
              "    .colab-df-convert {\n",
              "      background-color: #E8F0FE;\n",
              "      border: none;\n",
              "      border-radius: 50%;\n",
              "      cursor: pointer;\n",
              "      display: none;\n",
              "      fill: #1967D2;\n",
              "      height: 32px;\n",
              "      padding: 0 0 0 0;\n",
              "      width: 32px;\n",
              "    }\n",
              "\n",
              "    .colab-df-convert:hover {\n",
              "      background-color: #E2EBFA;\n",
              "      box-shadow: 0px 1px 2px rgba(60, 64, 67, 0.3), 0px 1px 3px 1px rgba(60, 64, 67, 0.15);\n",
              "      fill: #174EA6;\n",
              "    }\n",
              "\n",
              "    [theme=dark] .colab-df-convert {\n",
              "      background-color: #3B4455;\n",
              "      fill: #D2E3FC;\n",
              "    }\n",
              "\n",
              "    [theme=dark] .colab-df-convert:hover {\n",
              "      background-color: #434B5C;\n",
              "      box-shadow: 0px 1px 3px 1px rgba(0, 0, 0, 0.15);\n",
              "      filter: drop-shadow(0px 1px 2px rgba(0, 0, 0, 0.3));\n",
              "      fill: #FFFFFF;\n",
              "    }\n",
              "  </style>\n",
              "\n",
              "      <script>\n",
              "        const buttonEl =\n",
              "          document.querySelector('#df-0ed67ad0-a3ad-4eb2-9056-b7a82a75e8ae button.colab-df-convert');\n",
              "        buttonEl.style.display =\n",
              "          google.colab.kernel.accessAllowed ? 'block' : 'none';\n",
              "\n",
              "        async function convertToInteractive(key) {\n",
              "          const element = document.querySelector('#df-0ed67ad0-a3ad-4eb2-9056-b7a82a75e8ae');\n",
              "          const dataTable =\n",
              "            await google.colab.kernel.invokeFunction('convertToInteractive',\n",
              "                                                     [key], {});\n",
              "          if (!dataTable) return;\n",
              "\n",
              "          const docLinkHtml = 'Like what you see? Visit the ' +\n",
              "            '<a target=\"_blank\" href=https://colab.research.google.com/notebooks/data_table.ipynb>data table notebook</a>'\n",
              "            + ' to learn more about interactive tables.';\n",
              "          element.innerHTML = '';\n",
              "          dataTable['output_type'] = 'display_data';\n",
              "          await google.colab.output.renderOutput(dataTable, element);\n",
              "          const docLink = document.createElement('div');\n",
              "          docLink.innerHTML = docLinkHtml;\n",
              "          element.appendChild(docLink);\n",
              "        }\n",
              "      </script>\n",
              "    </div>\n",
              "  </div>\n",
              "  "
            ]
          },
          "metadata": {},
          "execution_count": 79
        }
      ]
    },
    {
      "cell_type": "code",
      "source": [
        "Univ[Univ['clusterid_new']==0]"
      ],
      "metadata": {
        "colab": {
          "base_uri": "https://localhost:8080/",
          "height": 363
        },
        "id": "wJPUGd5TqRHh",
        "outputId": "651259f2-85ea-439a-fe7d-584faaa4a8b2"
      },
      "execution_count": null,
      "outputs": [
        {
          "output_type": "execute_result",
          "data": {
            "text/plain": [
              "            Univ   SAT  Top10  Accept  SFRatio  Expenses  GradRate  \\\n",
              "2            CMU  1260     62      59        9     25026        72   \n",
              "4        Cornell  1280     83      33       13     21864        90   \n",
              "7     Georgetown  1255     74      24       12     20126        92   \n",
              "11  Northwestern  1260     85      39       11     28052        89   \n",
              "12     NotreDame  1255     81      42       13     15122        94   \n",
              "18    UCBerkeley  1240     95      40       17     15140        78   \n",
              "19      UChicago  1290     75      50       13     38380        87   \n",
              "20     UMichigan  1180     65      68       16     15470        85   \n",
              "21         UPenn  1285     80      36       11     27553        90   \n",
              "22           UVA  1225     77      44       14     13349        92   \n",
              "\n",
              "    clusterid_new  \n",
              "2               0  \n",
              "4               0  \n",
              "7               0  \n",
              "11              0  \n",
              "12              0  \n",
              "18              0  \n",
              "19              0  \n",
              "20              0  \n",
              "21              0  \n",
              "22              0  "
            ],
            "text/html": [
              "\n",
              "  <div id=\"df-2f3c874e-9fd5-40b4-9b8f-03f4081e3524\">\n",
              "    <div class=\"colab-df-container\">\n",
              "      <div>\n",
              "<style scoped>\n",
              "    .dataframe tbody tr th:only-of-type {\n",
              "        vertical-align: middle;\n",
              "    }\n",
              "\n",
              "    .dataframe tbody tr th {\n",
              "        vertical-align: top;\n",
              "    }\n",
              "\n",
              "    .dataframe thead th {\n",
              "        text-align: right;\n",
              "    }\n",
              "</style>\n",
              "<table border=\"1\" class=\"dataframe\">\n",
              "  <thead>\n",
              "    <tr style=\"text-align: right;\">\n",
              "      <th></th>\n",
              "      <th>Univ</th>\n",
              "      <th>SAT</th>\n",
              "      <th>Top10</th>\n",
              "      <th>Accept</th>\n",
              "      <th>SFRatio</th>\n",
              "      <th>Expenses</th>\n",
              "      <th>GradRate</th>\n",
              "      <th>clusterid_new</th>\n",
              "    </tr>\n",
              "  </thead>\n",
              "  <tbody>\n",
              "    <tr>\n",
              "      <th>2</th>\n",
              "      <td>CMU</td>\n",
              "      <td>1260</td>\n",
              "      <td>62</td>\n",
              "      <td>59</td>\n",
              "      <td>9</td>\n",
              "      <td>25026</td>\n",
              "      <td>72</td>\n",
              "      <td>0</td>\n",
              "    </tr>\n",
              "    <tr>\n",
              "      <th>4</th>\n",
              "      <td>Cornell</td>\n",
              "      <td>1280</td>\n",
              "      <td>83</td>\n",
              "      <td>33</td>\n",
              "      <td>13</td>\n",
              "      <td>21864</td>\n",
              "      <td>90</td>\n",
              "      <td>0</td>\n",
              "    </tr>\n",
              "    <tr>\n",
              "      <th>7</th>\n",
              "      <td>Georgetown</td>\n",
              "      <td>1255</td>\n",
              "      <td>74</td>\n",
              "      <td>24</td>\n",
              "      <td>12</td>\n",
              "      <td>20126</td>\n",
              "      <td>92</td>\n",
              "      <td>0</td>\n",
              "    </tr>\n",
              "    <tr>\n",
              "      <th>11</th>\n",
              "      <td>Northwestern</td>\n",
              "      <td>1260</td>\n",
              "      <td>85</td>\n",
              "      <td>39</td>\n",
              "      <td>11</td>\n",
              "      <td>28052</td>\n",
              "      <td>89</td>\n",
              "      <td>0</td>\n",
              "    </tr>\n",
              "    <tr>\n",
              "      <th>12</th>\n",
              "      <td>NotreDame</td>\n",
              "      <td>1255</td>\n",
              "      <td>81</td>\n",
              "      <td>42</td>\n",
              "      <td>13</td>\n",
              "      <td>15122</td>\n",
              "      <td>94</td>\n",
              "      <td>0</td>\n",
              "    </tr>\n",
              "    <tr>\n",
              "      <th>18</th>\n",
              "      <td>UCBerkeley</td>\n",
              "      <td>1240</td>\n",
              "      <td>95</td>\n",
              "      <td>40</td>\n",
              "      <td>17</td>\n",
              "      <td>15140</td>\n",
              "      <td>78</td>\n",
              "      <td>0</td>\n",
              "    </tr>\n",
              "    <tr>\n",
              "      <th>19</th>\n",
              "      <td>UChicago</td>\n",
              "      <td>1290</td>\n",
              "      <td>75</td>\n",
              "      <td>50</td>\n",
              "      <td>13</td>\n",
              "      <td>38380</td>\n",
              "      <td>87</td>\n",
              "      <td>0</td>\n",
              "    </tr>\n",
              "    <tr>\n",
              "      <th>20</th>\n",
              "      <td>UMichigan</td>\n",
              "      <td>1180</td>\n",
              "      <td>65</td>\n",
              "      <td>68</td>\n",
              "      <td>16</td>\n",
              "      <td>15470</td>\n",
              "      <td>85</td>\n",
              "      <td>0</td>\n",
              "    </tr>\n",
              "    <tr>\n",
              "      <th>21</th>\n",
              "      <td>UPenn</td>\n",
              "      <td>1285</td>\n",
              "      <td>80</td>\n",
              "      <td>36</td>\n",
              "      <td>11</td>\n",
              "      <td>27553</td>\n",
              "      <td>90</td>\n",
              "      <td>0</td>\n",
              "    </tr>\n",
              "    <tr>\n",
              "      <th>22</th>\n",
              "      <td>UVA</td>\n",
              "      <td>1225</td>\n",
              "      <td>77</td>\n",
              "      <td>44</td>\n",
              "      <td>14</td>\n",
              "      <td>13349</td>\n",
              "      <td>92</td>\n",
              "      <td>0</td>\n",
              "    </tr>\n",
              "  </tbody>\n",
              "</table>\n",
              "</div>\n",
              "      <button class=\"colab-df-convert\" onclick=\"convertToInteractive('df-2f3c874e-9fd5-40b4-9b8f-03f4081e3524')\"\n",
              "              title=\"Convert this dataframe to an interactive table.\"\n",
              "              style=\"display:none;\">\n",
              "        \n",
              "  <svg xmlns=\"http://www.w3.org/2000/svg\" height=\"24px\"viewBox=\"0 0 24 24\"\n",
              "       width=\"24px\">\n",
              "    <path d=\"M0 0h24v24H0V0z\" fill=\"none\"/>\n",
              "    <path d=\"M18.56 5.44l.94 2.06.94-2.06 2.06-.94-2.06-.94-.94-2.06-.94 2.06-2.06.94zm-11 1L8.5 8.5l.94-2.06 2.06-.94-2.06-.94L8.5 2.5l-.94 2.06-2.06.94zm10 10l.94 2.06.94-2.06 2.06-.94-2.06-.94-.94-2.06-.94 2.06-2.06.94z\"/><path d=\"M17.41 7.96l-1.37-1.37c-.4-.4-.92-.59-1.43-.59-.52 0-1.04.2-1.43.59L10.3 9.45l-7.72 7.72c-.78.78-.78 2.05 0 2.83L4 21.41c.39.39.9.59 1.41.59.51 0 1.02-.2 1.41-.59l7.78-7.78 2.81-2.81c.8-.78.8-2.07 0-2.86zM5.41 20L4 18.59l7.72-7.72 1.47 1.35L5.41 20z\"/>\n",
              "  </svg>\n",
              "      </button>\n",
              "      \n",
              "  <style>\n",
              "    .colab-df-container {\n",
              "      display:flex;\n",
              "      flex-wrap:wrap;\n",
              "      gap: 12px;\n",
              "    }\n",
              "\n",
              "    .colab-df-convert {\n",
              "      background-color: #E8F0FE;\n",
              "      border: none;\n",
              "      border-radius: 50%;\n",
              "      cursor: pointer;\n",
              "      display: none;\n",
              "      fill: #1967D2;\n",
              "      height: 32px;\n",
              "      padding: 0 0 0 0;\n",
              "      width: 32px;\n",
              "    }\n",
              "\n",
              "    .colab-df-convert:hover {\n",
              "      background-color: #E2EBFA;\n",
              "      box-shadow: 0px 1px 2px rgba(60, 64, 67, 0.3), 0px 1px 3px 1px rgba(60, 64, 67, 0.15);\n",
              "      fill: #174EA6;\n",
              "    }\n",
              "\n",
              "    [theme=dark] .colab-df-convert {\n",
              "      background-color: #3B4455;\n",
              "      fill: #D2E3FC;\n",
              "    }\n",
              "\n",
              "    [theme=dark] .colab-df-convert:hover {\n",
              "      background-color: #434B5C;\n",
              "      box-shadow: 0px 1px 3px 1px rgba(0, 0, 0, 0.15);\n",
              "      filter: drop-shadow(0px 1px 2px rgba(0, 0, 0, 0.3));\n",
              "      fill: #FFFFFF;\n",
              "    }\n",
              "  </style>\n",
              "\n",
              "      <script>\n",
              "        const buttonEl =\n",
              "          document.querySelector('#df-2f3c874e-9fd5-40b4-9b8f-03f4081e3524 button.colab-df-convert');\n",
              "        buttonEl.style.display =\n",
              "          google.colab.kernel.accessAllowed ? 'block' : 'none';\n",
              "\n",
              "        async function convertToInteractive(key) {\n",
              "          const element = document.querySelector('#df-2f3c874e-9fd5-40b4-9b8f-03f4081e3524');\n",
              "          const dataTable =\n",
              "            await google.colab.kernel.invokeFunction('convertToInteractive',\n",
              "                                                     [key], {});\n",
              "          if (!dataTable) return;\n",
              "\n",
              "          const docLinkHtml = 'Like what you see? Visit the ' +\n",
              "            '<a target=\"_blank\" href=https://colab.research.google.com/notebooks/data_table.ipynb>data table notebook</a>'\n",
              "            + ' to learn more about interactive tables.';\n",
              "          element.innerHTML = '';\n",
              "          dataTable['output_type'] = 'display_data';\n",
              "          await google.colab.output.renderOutput(dataTable, element);\n",
              "          const docLink = document.createElement('div');\n",
              "          docLink.innerHTML = docLinkHtml;\n",
              "          element.appendChild(docLink);\n",
              "        }\n",
              "      </script>\n",
              "    </div>\n",
              "  </div>\n",
              "  "
            ]
          },
          "metadata": {},
          "execution_count": 80
        }
      ]
    }
  ]
}