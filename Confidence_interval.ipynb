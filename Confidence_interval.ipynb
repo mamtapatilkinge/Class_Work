{
  "nbformat": 4,
  "nbformat_minor": 0,
  "metadata": {
    "colab": {
      "provenance": [],
      "collapsed_sections": []
    },
    "kernelspec": {
      "name": "python3",
      "display_name": "Python 3"
    },
    "language_info": {
      "name": "python"
    }
  },
  "cells": [
    {
      "cell_type": "code",
      "execution_count": null,
      "metadata": {
        "id": "ywT2yX9vZm8y"
      },
      "outputs": [],
      "source": [
        "from scipy import stats\n",
        "import pandas as pd\n",
        "import numpy as np"
      ]
    },
    {
      "cell_type": "code",
      "source": [
        "glaxo_df=pd.read_csv('https://raw.githubusercontent.com/slmsshk/DataSet/main/glaxo_df.csv')\n",
        "glaxo_df_ci = stats.norm.interval(0.95,\n",
        "loc = glaxo_df.gain.mean(),\n",
        "scale = glaxo_df.gain.std())\n",
        "print('Mean at 95% confidence interval is:', np.round(glaxo_df_ci,4))                                  "
      ],
      "metadata": {
        "colab": {
          "base_uri": "https://localhost:8080/"
        },
        "id": "lpVvtcXjaCDa",
        "outputId": "46247907-5d6c-45e7-91cc-be251a39e991"
      },
      "execution_count": null,
      "outputs": [
        {
          "output_type": "stream",
          "name": "stdout",
          "text": [
            "Mean at 95% confidence interval is: [-0.0258  0.0266]\n"
          ]
        }
      ]
    },
    {
      "cell_type": "code",
      "source": [
        "beml_df=pd.read_csv('https://raw.githubusercontent.com/slmsshk/DataSet/main/beml_df.csv')\n",
        "beml_df_ci = stats.norm.interval(0.95,\n",
        "loc = beml_df.gain.mean(),\n",
        "scale = beml_df.gain.std())  \n",
        "print('Mean at 95% confidence interval is:', np.round(beml_df_ci,4))                                   "
      ],
      "metadata": {
        "id": "HJAcCf-xbUBd"
      },
      "execution_count": null,
      "outputs": []
    },
    {
      "cell_type": "code",
      "source": [
        "from scipy import stats"
      ],
      "metadata": {
        "id": "J1Iu9AQEdNF1"
      },
      "execution_count": null,
      "outputs": []
    },
    {
      "cell_type": "code",
      "source": [
        "stats.t.ppf(0.975,df=139)"
      ],
      "metadata": {
        "colab": {
          "base_uri": "https://localhost:8080/"
        },
        "id": "JzhsGfXidTPp",
        "outputId": "315ce286-9274-42e5-df78-a0e476075615"
      },
      "execution_count": null,
      "outputs": [
        {
          "output_type": "execute_result",
          "data": {
            "text/plain": [
              "1.977177724476122"
            ]
          },
          "metadata": {},
          "execution_count": 6
        }
      ]
    },
    {
      "cell_type": "code",
      "source": [],
      "metadata": {
        "id": "QXV0GRdWdtrY"
      },
      "execution_count": null,
      "outputs": []
    }
  ]
}